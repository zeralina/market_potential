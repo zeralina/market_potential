{
 "cells": [
  {
   "cell_type": "markdown",
   "id": "92c52f36-3e2e-4a79-93cd-d591baea32e6",
   "metadata": {},
   "source": [
    "# PET PROJECT. PYTHON"
   ]
  },
  {
   "cell_type": "code",
   "execution_count": 3,
   "id": "8f413e19-c077-451f-bac2-253e235ed5a1",
   "metadata": {},
   "outputs": [],
   "source": [
    "import math\n",
    "import numpy as np\n",
    "import pandas as pd\n",
    "import seaborn as sns\n",
    "import matplotlib.pyplot as plt\n",
    "import re"
   ]
  },
  {
   "cell_type": "code",
   "execution_count": 13,
   "id": "059501c9-fc8d-4f0e-a062-fbf570cb5778",
   "metadata": {},
   "outputs": [
    {
     "data": {
      "text/html": [
       "<div>\n",
       "<style scoped>\n",
       "    .dataframe tbody tr th:only-of-type {\n",
       "        vertical-align: middle;\n",
       "    }\n",
       "\n",
       "    .dataframe tbody tr th {\n",
       "        vertical-align: top;\n",
       "    }\n",
       "\n",
       "    .dataframe thead th {\n",
       "        text-align: right;\n",
       "    }\n",
       "</style>\n",
       "<table border=\"1\" class=\"dataframe\">\n",
       "  <thead>\n",
       "    <tr style=\"text-align: right;\">\n",
       "      <th></th>\n",
       "      <th>full_name</th>\n",
       "      <th>resale_price</th>\n",
       "      <th>registered_year</th>\n",
       "      <th>engine_capacity</th>\n",
       "      <th>insurance</th>\n",
       "      <th>transmission_type</th>\n",
       "      <th>kms_driven</th>\n",
       "      <th>owner_type</th>\n",
       "      <th>fuel_type</th>\n",
       "      <th>max_power</th>\n",
       "      <th>seats</th>\n",
       "      <th>mileage</th>\n",
       "      <th>body_type</th>\n",
       "      <th>city</th>\n",
       "    </tr>\n",
       "  </thead>\n",
       "  <tbody>\n",
       "    <tr>\n",
       "      <th>0</th>\n",
       "      <td>2017 Maruti Baleno 1.2 Alpha</td>\n",
       "      <td>вВє 5.45 Lakh_</td>\n",
       "      <td>2017</td>\n",
       "      <td>1197 cc</td>\n",
       "      <td>Third Party insurance</td>\n",
       "      <td>Manual</td>\n",
       "      <td>40,000 Kms</td>\n",
       "      <td>First Owner</td>\n",
       "      <td>Petrol</td>\n",
       "      <td>83.1bhp</td>\n",
       "      <td>5.0</td>\n",
       "      <td>21.4 kmpl</td>\n",
       "      <td>Hatchback</td>\n",
       "      <td>Agra</td>\n",
       "    </tr>\n",
       "    <tr>\n",
       "      <th>1</th>\n",
       "      <td>2018 Tata Hexa XTA</td>\n",
       "      <td>вВє 10 Lakh_</td>\n",
       "      <td>2018</td>\n",
       "      <td>2179 cc</td>\n",
       "      <td>Third Party insurance</td>\n",
       "      <td>Automatic</td>\n",
       "      <td>70,000 Kms</td>\n",
       "      <td>First Owner</td>\n",
       "      <td>Diesel</td>\n",
       "      <td>153.86bhp</td>\n",
       "      <td>7.0</td>\n",
       "      <td>17.6 kmpl</td>\n",
       "      <td>MUV</td>\n",
       "      <td>Agra</td>\n",
       "    </tr>\n",
       "    <tr>\n",
       "      <th>2</th>\n",
       "      <td>2015 Maruti Swift Dzire VXI</td>\n",
       "      <td>вВє 4.50 Lakh_</td>\n",
       "      <td>2015</td>\n",
       "      <td>1197 cc</td>\n",
       "      <td>Third Party insurance</td>\n",
       "      <td>Manual</td>\n",
       "      <td>70,000 Kms</td>\n",
       "      <td>Second Owner</td>\n",
       "      <td>Petrol</td>\n",
       "      <td>83.14bhp</td>\n",
       "      <td>5.0</td>\n",
       "      <td>20.85 kmpl</td>\n",
       "      <td>Sedan</td>\n",
       "      <td>Agra</td>\n",
       "    </tr>\n",
       "    <tr>\n",
       "      <th>3</th>\n",
       "      <td>2015 Maruti Swift Dzire VXI</td>\n",
       "      <td>вВє 4.50 Lakh_</td>\n",
       "      <td>2015</td>\n",
       "      <td>1197 cc</td>\n",
       "      <td>Third Party insurance</td>\n",
       "      <td>Manual</td>\n",
       "      <td>70,000 Kms</td>\n",
       "      <td>Second Owner</td>\n",
       "      <td>Petrol</td>\n",
       "      <td>83.14bhp</td>\n",
       "      <td>5.0</td>\n",
       "      <td>20.85 kmpl</td>\n",
       "      <td>Sedan</td>\n",
       "      <td>Agra</td>\n",
       "    </tr>\n",
       "    <tr>\n",
       "      <th>4</th>\n",
       "      <td>2009 Hyundai i10 Magna 1.1</td>\n",
       "      <td>вВє 1.60 Lakh_</td>\n",
       "      <td>2009</td>\n",
       "      <td>1086 cc</td>\n",
       "      <td>Third Party insurance</td>\n",
       "      <td>Manual</td>\n",
       "      <td>80,000 Kms</td>\n",
       "      <td>First Owner</td>\n",
       "      <td>Petrol</td>\n",
       "      <td>68.05bhp</td>\n",
       "      <td>5.0</td>\n",
       "      <td>19.81 kmpl</td>\n",
       "      <td>Hatchback</td>\n",
       "      <td>Agra</td>\n",
       "    </tr>\n",
       "  </tbody>\n",
       "</table>\n",
       "</div>"
      ],
      "text/plain": [
       "                      full_name    resale_price registered_year  \\\n",
       "0  2017 Maruti Baleno 1.2 Alpha  вВє 5.45 Lakh_            2017   \n",
       "1            2018 Tata Hexa XTA    вВє 10 Lakh_            2018   \n",
       "2   2015 Maruti Swift Dzire VXI  вВє 4.50 Lakh_            2015   \n",
       "3   2015 Maruti Swift Dzire VXI  вВє 4.50 Lakh_            2015   \n",
       "4    2009 Hyundai i10 Magna 1.1  вВє 1.60 Lakh_            2009   \n",
       "\n",
       "  engine_capacity              insurance transmission_type  kms_driven  \\\n",
       "0         1197 cc  Third Party insurance            Manual  40,000 Kms   \n",
       "1         2179 cc  Third Party insurance         Automatic  70,000 Kms   \n",
       "2         1197 cc  Third Party insurance            Manual  70,000 Kms   \n",
       "3         1197 cc  Third Party insurance            Manual  70,000 Kms   \n",
       "4         1086 cc  Third Party insurance            Manual  80,000 Kms   \n",
       "\n",
       "     owner_type fuel_type  max_power  seats     mileage  body_type  city  \n",
       "0   First Owner    Petrol    83.1bhp    5.0   21.4 kmpl  Hatchback  Agra  \n",
       "1   First Owner    Diesel  153.86bhp    7.0   17.6 kmpl        MUV  Agra  \n",
       "2  Second Owner    Petrol   83.14bhp    5.0  20.85 kmpl      Sedan  Agra  \n",
       "3  Second Owner    Petrol   83.14bhp    5.0  20.85 kmpl      Sedan  Agra  \n",
       "4   First Owner    Petrol   68.05bhp    5.0  19.81 kmpl  Hatchback  Agra  "
      ]
     },
     "metadata": {},
     "output_type": "display_data"
    },
    {
     "name": "stdout",
     "output_type": "stream",
     "text": [
      "<class 'pandas.core.frame.DataFrame'>\n",
      "RangeIndex: 16747 entries, 0 to 16746\n",
      "Data columns (total 14 columns):\n",
      " #   Column             Non-Null Count  Dtype  \n",
      "---  ------             --------------  -----  \n",
      " 0   full_name          16747 non-null  object \n",
      " 1   resale_price       16747 non-null  object \n",
      " 2   registered_year    16700 non-null  object \n",
      " 3   engine_capacity    16747 non-null  object \n",
      " 4   insurance          16740 non-null  object \n",
      " 5   transmission_type  16747 non-null  object \n",
      " 6   kms_driven         16747 non-null  object \n",
      " 7   owner_type         16706 non-null  object \n",
      " 8   fuel_type          16747 non-null  object \n",
      " 9   max_power          16747 non-null  object \n",
      " 10  seats              16746 non-null  float64\n",
      " 11  mileage            16336 non-null  object \n",
      " 12  body_type          16747 non-null  object \n",
      " 13  city               16747 non-null  object \n",
      "dtypes: float64(1), object(13)\n",
      "memory usage: 1.8+ MB\n"
     ]
    },
    {
     "data": {
      "text/plain": [
       "None"
      ]
     },
     "metadata": {},
     "output_type": "display_data"
    }
   ],
   "source": [
    "df=pd.read_csv(r'data.csv')\n",
    "display(df.head())\n",
    "display(df.info())"
   ]
  },
  {
   "cell_type": "code",
   "execution_count": 15,
   "id": "f763b2ce-7a16-4d3e-9f3b-01bdac53cd09",
   "metadata": {},
   "outputs": [
    {
     "name": "stdout",
     "output_type": "stream",
     "text": [
      "First task result:  0.92\n"
     ]
    }
   ],
   "source": [
    "# первое задание\n",
    "df['year_of_production']=df['full_name'].str.slice(0,4)\n",
    "df['year_of_production']=df['year_of_production'].astype('int')\n",
    "df['engine_capacity']=df['engine_capacity'].apply(lambda x: (re.findall(r'\\d+',x))[0])\n",
    "df['engine_capacity']=df['engine_capacity'].astype('int')\n",
    "filtered_df=df[(df['year_of_production']>=2017) & (df['engine_capacity']<=2000)]\n",
    "filtered_again=df[df['year_of_production']>=2017]\n",
    "num_df=filtered_again.shape[0]\n",
    "num=filtered_df.shape[0]\n",
    "result1=round(num/num_df,2)\n",
    "print('First task result: ',result1)"
   ]
  },
  {
   "cell_type": "code",
   "execution_count": 17,
   "id": "cdc10ddf-16f5-47fa-ac76-c3bdeba68bdd",
   "metadata": {},
   "outputs": [
    {
     "name": "stdout",
     "output_type": "stream",
     "text": [
      "Second task result:  1800351.1\n",
      "0.9994558119286026\n"
     ]
    },
    {
     "data": {
      "text/plain": [
       "<Axes: xlabel='just_kms', ylabel='Count'>"
      ]
     },
     "execution_count": 17,
     "metadata": {},
     "output_type": "execute_result"
    },
    {
     "data": {
      "image/png": "[encoded data removed]",
      "text/plain": [
       "<Figure size 640x480 with 1 Axes>"
      ]
     },
     "metadata": {},
     "output_type": "display_data"
    }
   ],
   "source": [
    "# второе задание\n",
    "filtered_again=filtered_again.reset_index(drop=1)\n",
    "filtered_again['just_price']=filtered_again['resale_price'].apply(lambda x: x.split(' ')[1])\n",
    "filtered_again['just_price']=filtered_again['just_price'].astype('float')\n",
    "filtered_again['price_units']=filtered_again['resale_price'].apply(lambda x: x.split(' ')[2])\n",
    "for i in range(len(filtered_again)):\n",
    "    if filtered_again.loc[i,'price_units']=='Lakh_':\n",
    "        filtered_again.loc[i,'price_rub']=filtered_again.loc[i,'just_price']*100000*1.16\n",
    "    else:\n",
    "        filtered_again.loc[i,'price_rub']=filtered_again.loc[i,'just_price']*10000000*1.16\n",
    "df1=filtered_again[filtered_again['year_of_production']==2022]\n",
    "result2=round(df1['price_rub'].mean(),2)\n",
    "print('Second task result: ',result2)\n",
    "\n",
    "# третье задание\n",
    "filtered_again['just_kms']=filtered_again['kms_driven'].apply(lambda x: re.findall(r'\\d+',x))\n",
    "filtered_again['just_kms']=filtered_again['just_kms'].apply(lambda x: ''.join(x)).astype('float')\n",
    "print(filtered_again.query('just_kms <= 200000').shape[0]/filtered_again.shape[0])\n",
    "sns.histplot(data=filtered_again.query('just_kms <= 200000'),x='just_kms',binwidth=10000, binrange=(0,200001))"
   ]
  },
  {
   "cell_type": "code",
   "execution_count": 19,
   "id": "b9e6bc1f-f74f-4144-9b45-da39adc793f2",
   "metadata": {},
   "outputs": [
    {
     "name": "stdout",
     "output_type": "stream",
     "text": [
      "Fourth task result:  286\n"
     ]
    }
   ],
   "source": [
    "# четвертое задание\n",
    "filtered_again['year']=filtered_again['full_name'].apply(lambda x: x.split()[0])\n",
    "filtered_again['year']=filtered_again['year'].astype('int')\n",
    "filtered_again['name_auto']=filtered_again['full_name'].apply(lambda x: x[4:])\n",
    "auto_2022_set=set(filtered_again.query('year>=2022')['name_auto'])\n",
    "auto_pre_2022_set=set(filtered_again.query('year<2022')['name_auto'])\n",
    "auto_2022_set_unique=auto_2022_set.difference(auto_pre_2022_set)\n",
    "print('Fourth task result: ',len(auto_2022_set_unique))"
   ]
  },
  {
   "cell_type": "code",
   "execution_count": 21,
   "id": "52dbccb4-7601-438b-a3b0-1104ca0bbbce",
   "metadata": {},
   "outputs": [
    {
     "name": "stderr",
     "output_type": "stream",
     "text": [
      "C:\\Users\\zeral\\AppData\\Local\\Temp\\ipykernel_19996\\1812701940.py:24: FutureWarning: Setting an item of incompatible dtype is deprecated and will raise an error in a future version of pandas. Value '20.322408578167654' has dtype incompatible with int64, please explicitly cast to a compatible dtype first.\n",
      "  filtered_again.loc[i,'index']=func(filtered_again.loc[i,'price_rub'],filtered_again.loc[i,'just_power'],filtered_again.loc[i,'just_kms'])\n"
     ]
    },
    {
     "name": "stdout",
     "output_type": "stream",
     "text": [
      "Fifth rask result:  24.98\n"
     ]
    }
   ],
   "source": [
    "# пятое задание\n",
    "import math\n",
    "filtered_again['max_power']=filtered_again['max_power'].astype('str')\n",
    "filtered_again['just_power']=filtered_again['max_power'].apply(lambda x: re.findall(r'\\d+',x))\n",
    "filtered_again['just_power']=filtered_again['just_power'].apply(lambda x: '.'.join(x)).astype('float')\n",
    "\n",
    "filtered_again['just_price']=filtered_again['resale_price'].apply(lambda x: x.split(' ')[1])\n",
    "filtered_again['just_price']=filtered_again['just_price'].astype('float')\n",
    "filtered_again['price_units']=filtered_again['resale_price'].apply(lambda x: x.split(' ')[2])\n",
    "for i in range(len(filtered_again)):\n",
    "    if filtered_again.loc[i,'price_units']=='Lakh_':\n",
    "        filtered_again.loc[i,'price_rub']=filtered_again.loc[i,'just_price']*100000*1.16\n",
    "    else:\n",
    "        filtered_again.loc[i,'price_rub']=filtered_again.loc[i,'just_price']*10000000*1.16\n",
    "filtered_again['just_kms']=filtered_again['kms_driven'].apply(lambda x: re.findall(r'\\d+',x))\n",
    "filtered_again['just_kms']=filtered_again['just_kms'].apply(lambda x: ''.join(x)).astype('float')\n",
    "filtered_again.head()\n",
    "\n",
    "def func(price, power, kms):\n",
    "    return (math.log(price,2)*math.sqrt(power))/(math.log((kms/100),2))\n",
    "filtered_again['index']=0\n",
    "\n",
    "for i in range(len(filtered_again)):\n",
    "    filtered_again.loc[i,'index']=func(filtered_again.loc[i,'price_rub'],filtered_again.loc[i,'just_power'],filtered_again.loc[i,'just_kms'])\n",
    "\n",
    "result=round(filtered_again['index'].mean(),2)\n",
    "print('Fifth rask result: ',result)"
   ]
  }
 ],
 "metadata": {
  "kernelspec": {
   "display_name": "Python 3 (ipykernel)",
   "language": "python",
   "name": "python3"
  },
  "language_info": {
   "codemirror_mode": {
    "name": "ipython",
    "version": 3
   },
   "file_extension": ".py",
   "mimetype": "text/x-python",
   "name": "python",
   "nbconvert_exporter": "python",
   "pygments_lexer": "ipython3",
   "version": "3.12.4"
  }
 },
 "nbformat": 4,
 "nbformat_minor": 5
}
